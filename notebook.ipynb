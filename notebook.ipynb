{
  "nbformat": 4,
  "nbformat_minor": 0,
  "metadata": {
    "colab": {
      "name": "machinehack_#10.ipynb",
      "provenance": [],
      "mount_file_id": "19GtHHGdzCplG9xsb-lho1bx3afjwTX8X",
      "authorship_tag": "ABX9TyPUsx/LFEs5R3yWNEJOD24d",
      "include_colab_link": true
    },
    "kernelspec": {
      "name": "python3",
      "display_name": "Python 3"
    }
  },
  "cells": [
    {
      "cell_type": "markdown",
      "metadata": {
        "id": "view-in-github",
        "colab_type": "text"
      },
      "source": [
        "<a href=\"https://colab.research.google.com/github/NavinMundhra/07_video_game_sales/blob/master/notebook.ipynb\" target=\"_parent\"><img src=\"https://colab.research.google.com/assets/colab-badge.svg\" alt=\"Open In Colab\"/></a>"
      ]
    },
    {
      "cell_type": "markdown",
      "metadata": {
        "id": "ooo1y2Us-Wjl",
        "colab_type": "text"
      },
      "source": [
        "# Intro\n",
        "## Overview\n",
        "The gaming industry is certainly one of the thriving industries of the modern age and one of those that are most influenced by the advancement in technology. With the availability of technologies like AR/VR in consumer products like gaming consoles and even smartphones, the gaming sector shows great potential. In this hackathon, you as a data scientist must use your analytical skills to predict the sales of video games depending on given factors. Given are 8 distinguishing factors that can influence the sales of a video game. Your objective as a data scientist is to build a machine learning model that can accurately predict the sales in millions of units for a given game.\n",
        "\n",
        "## Evaluation\n",
        "\n",
        "The leaderboard is evaluated using RMSE for the participant’s submission."
      ]
    },
    {
      "cell_type": "markdown",
      "metadata": {
        "id": "pUnWFXN8-ihD",
        "colab_type": "text"
      },
      "source": [
        "# Imports & Data Exploration"
      ]
    },
    {
      "cell_type": "code",
      "metadata": {
        "id": "Vc59C8X0-E78",
        "colab_type": "code",
        "colab": {}
      },
      "source": [
        "import pandas as pd\n",
        "import numpy as np\n",
        "from scipy import stats\n",
        "import warnings\n",
        "warnings.filterwarnings(\"ignore\")\n",
        "import matplotlib.pyplot as plt\n",
        "import seaborn as sns\n",
        "from sklearn import preprocessing as prep\n",
        "\n",
        "\n",
        "FILEPATH = '/content/drive/My Drive/Colab Notebooks/proj_6 - predict_video_game_sales/Data/'"
      ],
      "execution_count": null,
      "outputs": []
    },
    {
      "cell_type": "code",
      "metadata": {
        "id": "T6SVIUKV_KBo",
        "colab_type": "code",
        "colab": {
          "base_uri": "https://localhost:8080/",
          "height": 406
        },
        "outputId": "1d338631-fb66-439c-f9a8-2e0ba159c92a"
      },
      "source": [
        "train = pd.read_csv(FILEPATH+'Train.csv')\n",
        "test = pd.read_csv(FILEPATH+'Test.csv')\n",
        "sample = pd.read_csv(FILEPATH+'Sample_Submission.csv')\n",
        "\n",
        "df = pd.concat([train.drop('ID', axis=1), test.drop('ID', axis=1)], keys=['train', 'test'])\n",
        "df"
      ],
      "execution_count": null,
      "outputs": [
        {
          "output_type": "execute_result",
          "data": {
            "text/html": [
              "<div>\n",
              "<style scoped>\n",
              "    .dataframe tbody tr th:only-of-type {\n",
              "        vertical-align: middle;\n",
              "    }\n",
              "\n",
              "    .dataframe tbody tr th {\n",
              "        vertical-align: top;\n",
              "    }\n",
              "\n",
              "    .dataframe thead th {\n",
              "        text-align: right;\n",
              "    }\n",
              "</style>\n",
              "<table border=\"1\" class=\"dataframe\">\n",
              "  <thead>\n",
              "    <tr style=\"text-align: right;\">\n",
              "      <th></th>\n",
              "      <th></th>\n",
              "      <th>CONSOLE</th>\n",
              "      <th>YEAR</th>\n",
              "      <th>CATEGORY</th>\n",
              "      <th>PUBLISHER</th>\n",
              "      <th>RATING</th>\n",
              "      <th>CRITICS_POINTS</th>\n",
              "      <th>USER_POINTS</th>\n",
              "      <th>SalesInMillions</th>\n",
              "    </tr>\n",
              "  </thead>\n",
              "  <tbody>\n",
              "    <tr>\n",
              "      <th rowspan=\"5\" valign=\"top\">train</th>\n",
              "      <th>0</th>\n",
              "      <td>ds</td>\n",
              "      <td>2008</td>\n",
              "      <td>role-playing</td>\n",
              "      <td>Nintendo</td>\n",
              "      <td>E</td>\n",
              "      <td>2.833333</td>\n",
              "      <td>0.303704</td>\n",
              "      <td>1.779257</td>\n",
              "    </tr>\n",
              "    <tr>\n",
              "      <th>1</th>\n",
              "      <td>wii</td>\n",
              "      <td>2012</td>\n",
              "      <td>simulation</td>\n",
              "      <td>Konami Digital Entertainment</td>\n",
              "      <td>E10+</td>\n",
              "      <td>13.200000</td>\n",
              "      <td>1.640000</td>\n",
              "      <td>0.215050</td>\n",
              "    </tr>\n",
              "    <tr>\n",
              "      <th>2</th>\n",
              "      <td>pc</td>\n",
              "      <td>2019</td>\n",
              "      <td>shooter</td>\n",
              "      <td>Activision</td>\n",
              "      <td>M</td>\n",
              "      <td>4.562500</td>\n",
              "      <td>0.006410</td>\n",
              "      <td>0.534402</td>\n",
              "    </tr>\n",
              "    <tr>\n",
              "      <th>3</th>\n",
              "      <td>ps2</td>\n",
              "      <td>2002</td>\n",
              "      <td>sports</td>\n",
              "      <td>Electronic Arts</td>\n",
              "      <td>E</td>\n",
              "      <td>4.181818</td>\n",
              "      <td>0.326923</td>\n",
              "      <td>1.383964</td>\n",
              "    </tr>\n",
              "    <tr>\n",
              "      <th>4</th>\n",
              "      <td>ps3</td>\n",
              "      <td>2013</td>\n",
              "      <td>action</td>\n",
              "      <td>Activision</td>\n",
              "      <td>M</td>\n",
              "      <td>2.259259</td>\n",
              "      <td>0.032579</td>\n",
              "      <td>0.082671</td>\n",
              "    </tr>\n",
              "    <tr>\n",
              "      <th>...</th>\n",
              "      <th>...</th>\n",
              "      <td>...</td>\n",
              "      <td>...</td>\n",
              "      <td>...</td>\n",
              "      <td>...</td>\n",
              "      <td>...</td>\n",
              "      <td>...</td>\n",
              "      <td>...</td>\n",
              "      <td>...</td>\n",
              "    </tr>\n",
              "    <tr>\n",
              "      <th rowspan=\"5\" valign=\"top\">test</th>\n",
              "      <th>1498</th>\n",
              "      <td>ps2</td>\n",
              "      <td>2004</td>\n",
              "      <td>sports</td>\n",
              "      <td>Electronic Arts</td>\n",
              "      <td>T</td>\n",
              "      <td>1.809524</td>\n",
              "      <td>0.192308</td>\n",
              "      <td>NaN</td>\n",
              "    </tr>\n",
              "    <tr>\n",
              "      <th>1499</th>\n",
              "      <td>ds</td>\n",
              "      <td>2007</td>\n",
              "      <td>platform</td>\n",
              "      <td>Take-Two Interactive</td>\n",
              "      <td>E</td>\n",
              "      <td>8.800000</td>\n",
              "      <td>0.625000</td>\n",
              "      <td>NaN</td>\n",
              "    </tr>\n",
              "    <tr>\n",
              "      <th>1500</th>\n",
              "      <td>xone</td>\n",
              "      <td>2016</td>\n",
              "      <td>action</td>\n",
              "      <td>Insomniac Games</td>\n",
              "      <td>E</td>\n",
              "      <td>5.500000</td>\n",
              "      <td>0.333333</td>\n",
              "      <td>NaN</td>\n",
              "    </tr>\n",
              "    <tr>\n",
              "      <th>1501</th>\n",
              "      <td>ps</td>\n",
              "      <td>2002</td>\n",
              "      <td>racing</td>\n",
              "      <td>Electronic Arts</td>\n",
              "      <td>E</td>\n",
              "      <td>8.625000</td>\n",
              "      <td>0.690000</td>\n",
              "      <td>NaN</td>\n",
              "    </tr>\n",
              "    <tr>\n",
              "      <th>1502</th>\n",
              "      <td>pc</td>\n",
              "      <td>2010</td>\n",
              "      <td>shooter</td>\n",
              "      <td>Thq</td>\n",
              "      <td>M</td>\n",
              "      <td>1.863636</td>\n",
              "      <td>0.007629</td>\n",
              "      <td>NaN</td>\n",
              "    </tr>\n",
              "  </tbody>\n",
              "</table>\n",
              "<p>5009 rows × 8 columns</p>\n",
              "</div>"
            ],
            "text/plain": [
              "           CONSOLE  YEAR  ... USER_POINTS SalesInMillions\n",
              "train 0         ds  2008  ...    0.303704        1.779257\n",
              "      1        wii  2012  ...    1.640000        0.215050\n",
              "      2         pc  2019  ...    0.006410        0.534402\n",
              "      3        ps2  2002  ...    0.326923        1.383964\n",
              "      4        ps3  2013  ...    0.032579        0.082671\n",
              "...            ...   ...  ...         ...             ...\n",
              "test  1498     ps2  2004  ...    0.192308             NaN\n",
              "      1499      ds  2007  ...    0.625000             NaN\n",
              "      1500    xone  2016  ...    0.333333             NaN\n",
              "      1501      ps  2002  ...    0.690000             NaN\n",
              "      1502      pc  2010  ...    0.007629             NaN\n",
              "\n",
              "[5009 rows x 8 columns]"
            ]
          },
          "metadata": {
            "tags": []
          },
          "execution_count": 47
        }
      ]
    },
    {
      "cell_type": "code",
      "metadata": {
        "id": "-Pd_a4bk09Z0",
        "colab_type": "code",
        "colab": {}
      },
      "source": [
        "df['cp_whole'] = np.fix(df['CRITICS_POINTS'])\n",
        "df['cp_frac'] = df['CRITICS_POINTS'] - np.fix(df['CRITICS_POINTS'])\n",
        "df['up_whole'] = np.fix(df['USER_POINTS'])\n",
        "df['up_frac'] = df['USER_POINTS'] - np.fix(df['USER_POINTS'])\n",
        "df['up_frac_round'] = np.round(df['up_frac'], 3)\n",
        "df['cp_frac_round'] = np.round(df['cp_frac'], 3)\n",
        "df['YEAR_cat'] = pd.cut(df['YEAR'], bins = [1980, 1990, 2000, 2010, 2020], labels = ['1_d', '2_d', '3_d', '4_d']).astype('str')\n",
        "df['unique_rating_per_publisher'] = df.groupby('PUBLISHER')['RATING'].transform('nunique')\n",
        "df['unique_console_per_publisher'] = df.groupby('PUBLISHER')['CONSOLE'].transform('nunique')\n",
        "df['unique_category_per_publisher'] = df.groupby('PUBLISHER')['CATEGORY'].transform('nunique')\n",
        "# df['std_cp_publisher'] = df.groupby('PUBLISHER')['CRITICS_POINTS'].transform('std')\n",
        "# df['std_cp_console'] = df.groupby('CONSOLE')['CRITICS_POINTS'].transform('std')\n",
        "# df['std_cp_rating'] = df.groupby('RATING')['CRITICS_POINTS'].transform('std')\n",
        "# df['std_cp_cate'] = df.groupby('CATEGORY')['CRITICS_POINTS'].transform('std')\n",
        "df['YEAR'] = df['YEAR'].astype('str')"
      ],
      "execution_count": null,
      "outputs": []
    },
    {
      "cell_type": "code",
      "metadata": {
        "id": "EcgnV84J_WKt",
        "colab_type": "code",
        "colab": {
          "base_uri": "https://localhost:8080/",
          "height": 496
        },
        "outputId": "fd22a735-9397-43e2-e0fa-c7c634eb7a93"
      },
      "source": [
        "df.info()"
      ],
      "execution_count": null,
      "outputs": [
        {
          "output_type": "stream",
          "text": [
            "<class 'pandas.core.frame.DataFrame'>\n",
            "MultiIndex: 5009 entries, ('train', 0) to ('test', 1502)\n",
            "Data columns (total 20 columns):\n",
            " #   Column                         Non-Null Count  Dtype  \n",
            "---  ------                         --------------  -----  \n",
            " 0   CONSOLE                        5009 non-null   object \n",
            " 1   YEAR                           5009 non-null   object \n",
            " 2   CATEGORY                       5009 non-null   object \n",
            " 3   PUBLISHER                      5009 non-null   object \n",
            " 4   RATING                         5009 non-null   object \n",
            " 5   CRITICS_POINTS                 5009 non-null   float64\n",
            " 6   USER_POINTS                    5009 non-null   float64\n",
            " 7   SalesInMillions                3506 non-null   float64\n",
            " 8   cp_whole                       5009 non-null   float64\n",
            " 9   cp_frac                        5009 non-null   float64\n",
            " 10  up_whole                       5009 non-null   float64\n",
            " 11  up_frac                        5009 non-null   float64\n",
            " 12  up_frac_round                  5009 non-null   float64\n",
            " 13  cp_frac_round                  5009 non-null   float64\n",
            " 14  YEAR_cat                       5009 non-null   object \n",
            " 15  unique_rating_per_publisher    5009 non-null   int64  \n",
            " 16  unique_console_per_publisher   5009 non-null   int64  \n",
            " 17  unique_category_per_publisher  5009 non-null   int64  \n",
            " 18  std_cp_console                 5009 non-null   float64\n",
            " 19  std_cp_cate                    5009 non-null   float64\n",
            "dtypes: float64(11), int64(3), object(6)\n",
            "memory usage: 824.8+ KB\n"
          ],
          "name": "stdout"
        }
      ]
    },
    {
      "cell_type": "code",
      "metadata": {
        "id": "Hievq74rnb5u",
        "colab_type": "code",
        "colab": {
          "base_uri": "https://localhost:8080/",
          "height": 307
        },
        "outputId": "24176f1f-1d7c-4c78-c6e8-d71f3ed07556"
      },
      "source": [
        "df.describe()"
      ],
      "execution_count": null,
      "outputs": [
        {
          "output_type": "execute_result",
          "data": {
            "text/html": [
              "<div>\n",
              "<style scoped>\n",
              "    .dataframe tbody tr th:only-of-type {\n",
              "        vertical-align: middle;\n",
              "    }\n",
              "\n",
              "    .dataframe tbody tr th {\n",
              "        vertical-align: top;\n",
              "    }\n",
              "\n",
              "    .dataframe thead th {\n",
              "        text-align: right;\n",
              "    }\n",
              "</style>\n",
              "<table border=\"1\" class=\"dataframe\">\n",
              "  <thead>\n",
              "    <tr style=\"text-align: right;\">\n",
              "      <th></th>\n",
              "      <th>CRITICS_POINTS</th>\n",
              "      <th>USER_POINTS</th>\n",
              "      <th>SalesInMillions</th>\n",
              "      <th>cp_whole</th>\n",
              "      <th>cp_frac</th>\n",
              "      <th>up_whole</th>\n",
              "      <th>up_frac</th>\n",
              "      <th>up_frac_round</th>\n",
              "      <th>cp_frac_round</th>\n",
              "      <th>unique_rating_per_publisher</th>\n",
              "      <th>unique_console_per_publisher</th>\n",
              "      <th>unique_category_per_publisher</th>\n",
              "      <th>std_cp_console</th>\n",
              "      <th>std_cp_cate</th>\n",
              "    </tr>\n",
              "  </thead>\n",
              "  <tbody>\n",
              "    <tr>\n",
              "      <th>count</th>\n",
              "      <td>5009.000000</td>\n",
              "      <td>5009.000000</td>\n",
              "      <td>3506.000000</td>\n",
              "      <td>5009.000000</td>\n",
              "      <td>5009.000000</td>\n",
              "      <td>5009.000000</td>\n",
              "      <td>5009.000000</td>\n",
              "      <td>5009.000000</td>\n",
              "      <td>5009.000000</td>\n",
              "      <td>5009.000000</td>\n",
              "      <td>5009.000000</td>\n",
              "      <td>5009.000000</td>\n",
              "      <td>5009.000000</td>\n",
              "      <td>5009.000000</td>\n",
              "    </tr>\n",
              "    <tr>\n",
              "      <th>mean</th>\n",
              "      <td>3.815513</td>\n",
              "      <td>0.404865</td>\n",
              "      <td>2.171021</td>\n",
              "      <td>3.350769</td>\n",
              "      <td>0.464744</td>\n",
              "      <td>0.126572</td>\n",
              "      <td>0.278293</td>\n",
              "      <td>0.278297</td>\n",
              "      <td>0.464739</td>\n",
              "      <td>3.827111</td>\n",
              "      <td>11.453584</td>\n",
              "      <td>9.855061</td>\n",
              "      <td>2.973259</td>\n",
              "      <td>3.106264</td>\n",
              "    </tr>\n",
              "    <tr>\n",
              "      <th>std</th>\n",
              "      <td>3.194413</td>\n",
              "      <td>0.455591</td>\n",
              "      <td>2.495396</td>\n",
              "      <td>3.221170</td>\n",
              "      <td>0.288730</td>\n",
              "      <td>0.356857</td>\n",
              "      <td>0.260574</td>\n",
              "      <td>0.260572</td>\n",
              "      <td>0.288732</td>\n",
              "      <td>0.789341</td>\n",
              "      <td>4.803226</td>\n",
              "      <td>3.135478</td>\n",
              "      <td>0.636261</td>\n",
              "      <td>0.472782</td>\n",
              "    </tr>\n",
              "    <tr>\n",
              "      <th>min</th>\n",
              "      <td>0.568966</td>\n",
              "      <td>0.000341</td>\n",
              "      <td>0.001524</td>\n",
              "      <td>0.000000</td>\n",
              "      <td>0.000000</td>\n",
              "      <td>0.000000</td>\n",
              "      <td>0.000000</td>\n",
              "      <td>0.000000</td>\n",
              "      <td>0.000000</td>\n",
              "      <td>1.000000</td>\n",
              "      <td>1.000000</td>\n",
              "      <td>1.000000</td>\n",
              "      <td>1.822069</td>\n",
              "      <td>2.308502</td>\n",
              "    </tr>\n",
              "    <tr>\n",
              "      <th>25%</th>\n",
              "      <td>1.738095</td>\n",
              "      <td>0.067778</td>\n",
              "      <td>0.965679</td>\n",
              "      <td>1.000000</td>\n",
              "      <td>0.214286</td>\n",
              "      <td>0.000000</td>\n",
              "      <td>0.061240</td>\n",
              "      <td>0.061000</td>\n",
              "      <td>0.214000</td>\n",
              "      <td>4.000000</td>\n",
              "      <td>7.000000</td>\n",
              "      <td>9.000000</td>\n",
              "      <td>2.589157</td>\n",
              "      <td>2.906001</td>\n",
              "    </tr>\n",
              "    <tr>\n",
              "      <th>50%</th>\n",
              "      <td>2.785714</td>\n",
              "      <td>0.231579</td>\n",
              "      <td>1.866140</td>\n",
              "      <td>2.000000</td>\n",
              "      <td>0.460000</td>\n",
              "      <td>0.000000</td>\n",
              "      <td>0.196970</td>\n",
              "      <td>0.197000</td>\n",
              "      <td>0.460000</td>\n",
              "      <td>4.000000</td>\n",
              "      <td>13.000000</td>\n",
              "      <td>12.000000</td>\n",
              "      <td>2.880963</td>\n",
              "      <td>3.309060</td>\n",
              "    </tr>\n",
              "    <tr>\n",
              "      <th>75%</th>\n",
              "      <td>4.625000</td>\n",
              "      <td>0.583333</td>\n",
              "      <td>2.792029</td>\n",
              "      <td>4.000000</td>\n",
              "      <td>0.714286</td>\n",
              "      <td>0.000000</td>\n",
              "      <td>0.435000</td>\n",
              "      <td>0.435000</td>\n",
              "      <td>0.714000</td>\n",
              "      <td>4.000000</td>\n",
              "      <td>16.000000</td>\n",
              "      <td>12.000000</td>\n",
              "      <td>3.366722</td>\n",
              "      <td>3.340823</td>\n",
              "    </tr>\n",
              "    <tr>\n",
              "      <th>max</th>\n",
              "      <td>23.250000</td>\n",
              "      <td>2.375000</td>\n",
              "      <td>84.226041</td>\n",
              "      <td>23.000000</td>\n",
              "      <td>0.989583</td>\n",
              "      <td>2.000000</td>\n",
              "      <td>0.988889</td>\n",
              "      <td>0.989000</td>\n",
              "      <td>0.990000</td>\n",
              "      <td>5.000000</td>\n",
              "      <td>16.000000</td>\n",
              "      <td>12.000000</td>\n",
              "      <td>5.535948</td>\n",
              "      <td>4.026902</td>\n",
              "    </tr>\n",
              "  </tbody>\n",
              "</table>\n",
              "</div>"
            ],
            "text/plain": [
              "       CRITICS_POINTS  USER_POINTS  ...  std_cp_console  std_cp_cate\n",
              "count     5009.000000  5009.000000  ...     5009.000000  5009.000000\n",
              "mean         3.815513     0.404865  ...        2.973259     3.106264\n",
              "std          3.194413     0.455591  ...        0.636261     0.472782\n",
              "min          0.568966     0.000341  ...        1.822069     2.308502\n",
              "25%          1.738095     0.067778  ...        2.589157     2.906001\n",
              "50%          2.785714     0.231579  ...        2.880963     3.309060\n",
              "75%          4.625000     0.583333  ...        3.366722     3.340823\n",
              "max         23.250000     2.375000  ...        5.535948     4.026902\n",
              "\n",
              "[8 rows x 14 columns]"
            ]
          },
          "metadata": {
            "tags": []
          },
          "execution_count": 50
        }
      ]
    },
    {
      "cell_type": "code",
      "metadata": {
        "id": "7f8_sxGpm46c",
        "colab_type": "code",
        "colab": {}
      },
      "source": [
        "target = 'SalesInMillions'\n",
        "catfeat, numfeat = list(df.select_dtypes(exclude = np.number)), list(df.select_dtypes(include = np.number)) \n",
        "numfeat.remove(target)"
      ],
      "execution_count": null,
      "outputs": []
    },
    {
      "cell_type": "code",
      "metadata": {
        "id": "o98ennxRm_aT",
        "colab_type": "code",
        "colab": {
          "base_uri": "https://localhost:8080/",
          "height": 265
        },
        "outputId": "f634bfe4-753c-4c60-f1c2-330e4dbe65fa"
      },
      "source": [
        "df[numfeat].skew()"
      ],
      "execution_count": null,
      "outputs": [
        {
          "output_type": "execute_result",
          "data": {
            "text/plain": [
              "CRITICS_POINTS                   2.299211\n",
              "USER_POINTS                      1.607630\n",
              "cp_whole                         2.289793\n",
              "cp_frac                          0.027216\n",
              "up_whole                         2.785447\n",
              "up_frac                          0.948700\n",
              "up_frac_round                    0.948686\n",
              "cp_frac_round                    0.027209\n",
              "unique_rating_per_publisher     -1.896739\n",
              "unique_console_per_publisher    -0.664231\n",
              "unique_category_per_publisher   -1.519410\n",
              "std_cp_console                   0.920445\n",
              "std_cp_cate                     -0.505016\n",
              "dtype: float64"
            ]
          },
          "metadata": {
            "tags": []
          },
          "execution_count": 52
        }
      ]
    },
    {
      "cell_type": "code",
      "metadata": {
        "id": "E8eULRcRxhIG",
        "colab_type": "code",
        "colab": {
          "base_uri": "https://localhost:8080/",
          "height": 278
        },
        "outputId": "4b85c1f3-2f7c-4148-9ace-3acdc196990c"
      },
      "source": [
        "# sns.distplot(np.log1p(df.xs('train')[target]), label=np.log1p(df.xs('train')[target]).skew()); plt.legend(); plt.show()\n",
        "df.xs('train')[target] = np.log1p(df.xs('train')[target])"
      ],
      "execution_count": null,
      "outputs": [
        {
          "output_type": "display_data",
          "data": {
            "image/png": "[encoded data removed]",
            "text/plain": [
              "<Figure size 432x288 with 1 Axes>"
            ]
          },
          "metadata": {
            "tags": [],
            "needs_background": "light"
          }
        }
      ]
    },
    {
      "cell_type": "markdown",
      "metadata": {
        "id": "IDu1aCEI0abu",
        "colab_type": "text"
      },
      "source": [
        "# DATA PREPARATION"
      ]
    },
    {
      "cell_type": "code",
      "metadata": {
        "id": "LWUxyR6VnGo8",
        "colab_type": "code",
        "colab": {}
      },
      "source": [
        "for col in numfeat:\n",
        "    df[col] = stats.boxcox(1+df[col], stats.boxcox_normmax(1+df[col]))\n",
        "df[numfeat].skew()\n",
        "\n",
        "minmax = prep.MinMaxScaler()\n",
        "df[numfeat] = minmax.fit_transform(df[numfeat])"
      ],
      "execution_count": null,
      "outputs": []
    },
    {
      "cell_type": "code",
      "metadata": {
        "id": "XH-orp1Anm8M",
        "colab_type": "code",
        "colab": {
          "base_uri": "https://localhost:8080/",
          "height": 34
        },
        "outputId": "6814b146-a215-4a07-8ddd-2c2d36d95421"
      },
      "source": [
        "df = pd.get_dummies(df)\n",
        "\n",
        "# le = prep.LabelEncoder()\n",
        "# for col in catfeat:\n",
        "#     df[col] = le.fit_transform(df[col])\n",
        "\n",
        "X = df.xs('train').drop(target, axis=1); y = df.xs('train')[target]; X_test = df.xs('test').drop(target, axis=1)\n",
        "X.shape, y.shape, X_test.shape"
      ],
      "execution_count": null,
      "outputs": [
        {
          "output_type": "execute_result",
          "data": {
            "text/plain": [
              "((3506, 311), (3506,), (1503, 311))"
            ]
          },
          "metadata": {
            "tags": []
          },
          "execution_count": 55
        }
      ]
    },
    {
      "cell_type": "code",
      "metadata": {
        "id": "HIHxYik7rhx0",
        "colab_type": "code",
        "colab": {
          "base_uri": "https://localhost:8080/",
          "height": 123
        },
        "outputId": "0c695c5d-fb99-4da5-d491-f054d3f19772"
      },
      "source": [
        "y.head()"
      ],
      "execution_count": null,
      "outputs": [
        {
          "output_type": "execute_result",
          "data": {
            "text/plain": [
              "0    1.022184\n",
              "1    0.194785\n",
              "2    0.428140\n",
              "3    0.868765\n",
              "4    0.079431\n",
              "Name: SalesInMillions, dtype: float64"
            ]
          },
          "metadata": {
            "tags": []
          },
          "execution_count": 21
        }
      ]
    },
    {
      "cell_type": "markdown",
      "metadata": {
        "id": "qd3X_h_b0W4b",
        "colab_type": "text"
      },
      "source": [
        "# MODELS"
      ]
    },
    {
      "cell_type": "markdown",
      "metadata": {
        "id": "RkjHHd_VigML",
        "colab_type": "text"
      },
      "source": [
        "# LASSO"
      ]
    },
    {
      "cell_type": "code",
      "metadata": {
        "id": "WxAU0n4oigb7",
        "colab_type": "code",
        "colab": {
          "base_uri": "https://localhost:8080/",
          "height": 34
        },
        "outputId": "9806bc39-a16d-403e-9a16-30a7d23491cf"
      },
      "source": [
        "from sklearn.linear_model import Lasso\n",
        "from sklearn.model_selection import KFold, train_test_split, cross_val_score\n",
        "from sklearn.metrics import mean_squared_error\n",
        "\n",
        "kf = KFold(15, random_state=100, shuffle=True)\n",
        "\n",
        "lassr, scores = Lasso(random_state=100), list()\n",
        "\n",
        "for train, test in kf.split(X,y):\n",
        "    xtrain, ytrain = X.loc[train], y.loc[train]\n",
        "    xtest, ytest = X.loc[test], y.loc[test]\n",
        "\n",
        "    lassr.fit(xtrain, ytrain)\n",
        "    ypred = lassr.predict(xtest)\n",
        "\n",
        "    temp = mean_squared_error(ypred,ytest,squared=False)\n",
        "    scores.append(temp)\n",
        "\n",
        "scoresd['lasso'] = sum(scores)/len(scores)\n",
        "print('CV(', kf.get_n_splits(), ') score: ', scoresd['lasso'])"
      ],
      "execution_count": null,
      "outputs": [
        {
          "output_type": "stream",
          "text": [
            "CV( 15 ) score:  0.49086272149388777\n"
          ],
          "name": "stdout"
        }
      ]
    },
    {
      "cell_type": "code",
      "metadata": {
        "id": "Hw2SoXAqkpEc",
        "colab_type": "code",
        "colab": {
          "base_uri": "https://localhost:8080/",
          "height": 70
        },
        "outputId": "d98b71e5-7fea-4068-b49d-ca8fd3ba62fd"
      },
      "source": [
        "lassr"
      ],
      "execution_count": null,
      "outputs": [
        {
          "output_type": "execute_result",
          "data": {
            "text/plain": [
              "Lasso(alpha=1.0, copy_X=True, fit_intercept=True, max_iter=1000,\n",
              "      normalize=False, positive=False, precompute=False, random_state=None,\n",
              "      selection='cyclic', tol=0.0001, warm_start=False)"
            ]
          },
          "metadata": {
            "tags": []
          },
          "execution_count": 108
        }
      ]
    },
    {
      "cell_type": "markdown",
      "metadata": {
        "id": "ROH4D074oAZU",
        "colab_type": "text"
      },
      "source": [
        "# ELASTICNET"
      ]
    },
    {
      "cell_type": "code",
      "metadata": {
        "id": "QeNm2ZKboA7N",
        "colab_type": "code",
        "colab": {
          "base_uri": "https://localhost:8080/",
          "height": 34
        },
        "outputId": "673ed6c8-cf40-4638-a872-1885c2c2eced"
      },
      "source": [
        "from sklearn.linear_model import SGDRegressor\n",
        "from sklearn.pipeline import make_pipeline\n",
        "\n",
        "enetr, scores = SGDRegressor(early_stopping=True, verbose=False, l1_ratio=0.5, validation_fraction=0.3), list()\n",
        "\n",
        "for train, test in kf.split(X,y):\n",
        "    xtrain, ytrain = X.loc[train], y.loc[train]\n",
        "    xtest, ytest = X.loc[test], y.loc[test]\n",
        "\n",
        "    enetr.fit(xtrain, ytrain)\n",
        "    ypred = enetr.predict(xtest)\n",
        "\n",
        "    temp = mean_squared_error(ypred,ytest,squared=False)\n",
        "    scores.append(temp)\n",
        "\n",
        "scoresd['elastic_net'] = sum(scores)/len(scores)\n",
        "print('CV(', kf.get_n_splits(), ') score: ', scoresd['elastic_net'])"
      ],
      "execution_count": null,
      "outputs": [
        {
          "output_type": "stream",
          "text": [
            "CV( 15 ) score:  0.47634466239241857\n"
          ],
          "name": "stdout"
        }
      ]
    },
    {
      "cell_type": "code",
      "metadata": {
        "id": "3UIpsuLHot59",
        "colab_type": "code",
        "colab": {
          "base_uri": "https://localhost:8080/",
          "height": 123
        },
        "outputId": "0cca1a31-f69d-467f-d914-f83e240d9b73"
      },
      "source": [
        "enetr.get_params"
      ],
      "execution_count": null,
      "outputs": [
        {
          "output_type": "execute_result",
          "data": {
            "text/plain": [
              "<bound method BaseEstimator.get_params of SGDRegressor(alpha=0.0001, average=False, early_stopping=True, epsilon=0.1,\n",
              "             eta0=0.01, fit_intercept=True, l1_ratio=0.5,\n",
              "             learning_rate='invscaling', loss='squared_loss', max_iter=1000,\n",
              "             n_iter_no_change=5, penalty='l2', power_t=0.25, random_state=None,\n",
              "             shuffle=True, tol=0.001, validation_fraction=0.3, verbose=False,\n",
              "             warm_start=False)>"
            ]
          },
          "metadata": {
            "tags": []
          },
          "execution_count": 156
        }
      ]
    },
    {
      "cell_type": "markdown",
      "metadata": {
        "id": "npUyIP1q22Z-",
        "colab_type": "text"
      },
      "source": [
        "## LIGHTGBM"
      ]
    },
    {
      "cell_type": "code",
      "metadata": {
        "id": "R5MCgsw2on0H",
        "colab_type": "code",
        "colab": {
          "base_uri": "https://localhost:8080/",
          "height": 34
        },
        "outputId": "1d221847-1061-49bf-ff99-10668f3770b5"
      },
      "source": [
        "import lightgbm as lgb\n",
        "\n",
        "lgbr, scores, scoresd = lgb.LGBMRegressor(learning_rate = 0.03, n_estimators=2500, num_leaves=20, reg_alpha=0.3,\n",
        "                                          max_depth=6, reg_lambda=0.4, silent=True), list(), dict()\n",
        "\n",
        "for train, test in kf.split(X,y):\n",
        "    xtrain, ytrain = X.loc[train], y.loc[train]\n",
        "    xtest, ytest = X.loc[test], y.loc[test]\n",
        "\n",
        "    lgbr.fit(xtrain, ytrain, early_stopping_rounds=100, verbose=False, eval_metric='rmse', eval_set=(xtest, ytest))\n",
        "    ypred = lgbr.predict(xtest)\n",
        "\n",
        "    temp = mean_squared_error(ypred,ytest,squared=False)\n",
        "    scores.append(temp)\n",
        "\n",
        "scoresd['baseline_lgb'] = sum(scores)/len(scores)\n",
        "print('CV(', kf.get_n_splits(), ') score: ', scoresd['baseline_lgb'])"
      ],
      "execution_count": null,
      "outputs": [
        {
          "output_type": "stream",
          "text": [
            "CV( 15 ) score:  0.4450045782471692\n"
          ],
          "name": "stdout"
        }
      ]
    },
    {
      "cell_type": "code",
      "metadata": {
        "id": "2ZSIXKWcdO4l",
        "colab_type": "code",
        "colab": {
          "base_uri": "https://localhost:8080/",
          "height": 123
        },
        "outputId": "0352c11b-a519-4957-d82c-0cdeedd67326"
      },
      "source": [
        "lgbr"
      ],
      "execution_count": null,
      "outputs": [
        {
          "output_type": "execute_result",
          "data": {
            "text/plain": [
              "LGBMRegressor(boosting_type='gbdt', class_weight=None, colsample_bytree=1.0,\n",
              "              importance_type='split', learning_rate=0.03, max_depth=6,\n",
              "              min_child_samples=20, min_child_weight=0.001, min_split_gain=0.0,\n",
              "              n_estimators=2500, n_jobs=-1, num_leaves=20, objective=None,\n",
              "              random_state=None, reg_alpha=0.3, reg_lambda=0.4, silent=True,\n",
              "              subsample=1.0, subsample_for_bin=200000, subsample_freq=0)"
            ]
          },
          "metadata": {
            "tags": []
          },
          "execution_count": 120
        }
      ]
    },
    {
      "cell_type": "code",
      "metadata": {
        "id": "VLv1oi88wLtB",
        "colab_type": "code",
        "colab": {
          "base_uri": "https://localhost:8080/",
          "height": 441
        },
        "outputId": "3432606f-9fa3-4398-ec75-b0bbc9ac22f8"
      },
      "source": [
        "imp = pd.concat([pd.Series(lgbr.feature_importances_), pd.Series(list(X.columns))], keys = ['Value', 'Name'], axis=1)\n",
        "\n",
        "plt.figure(figsize=(8,6)); sns.barplot(x='Value', y='Name', data= imp.sort_values(by='Value', ascending=False)[:10])\n",
        "plt.title('Top 10 Features for LGBoost'); plt.tight_layout()"
      ],
      "execution_count": null,
      "outputs": [
        {
          "output_type": "display_data",
          "data": {
            "image/png": "[encoded data removed]",
            "text/plain": [
              "<Figure size 576x432 with 1 Axes>"
            ]
          },
          "metadata": {
            "tags": [],
            "needs_background": "light"
          }
        }
      ]
    },
    {
      "cell_type": "markdown",
      "metadata": {
        "id": "lhvhw7YI255c",
        "colab_type": "text"
      },
      "source": [
        "## XGBOOST"
      ]
    },
    {
      "cell_type": "code",
      "metadata": {
        "id": "6T2NK2xfsVE7",
        "colab_type": "code",
        "colab": {
          "base_uri": "https://localhost:8080/",
          "height": 34
        },
        "outputId": "b45fe4af-863f-41df-8d89-9be2e536951f"
      },
      "source": [
        "import xgboost as xgb\n",
        "\n",
        "xgbr, scores = xgb.XGBRegressor(silent=True), list()\n",
        "\n",
        "for train, test in kf.split(X,y):\n",
        "    xtrain, ytrain = X.loc[train], y.loc[train]\n",
        "    xtest, ytest = X.loc[test], y.loc[test]\n",
        "\n",
        "    xgbr.fit(xtrain,ytrain)\n",
        "    ypred = xgbr.predict(xtest)\n",
        "\n",
        "    temp = mean_squared_error(ypred,ytest, squared=False)\n",
        "    scores.append(temp)\n",
        "    \n",
        "scoresd['baseline_XGB'] = sum(scores)/len(scores)\n",
        "print('CV(', kf.get_n_splits(), ') score: ', scoresd['baseline_XGB']);"
      ],
      "execution_count": null,
      "outputs": [
        {
          "output_type": "stream",
          "text": [
            "CV( 15 ) score:  0.44900855155860514\n"
          ],
          "name": "stdout"
        }
      ]
    },
    {
      "cell_type": "code",
      "metadata": {
        "id": "WbUgIfurdZc6",
        "colab_type": "code",
        "colab": {
          "base_uri": "https://localhost:8080/",
          "height": 141
        },
        "outputId": "89c8ed69-1f9e-4609-e01a-26588c99417e"
      },
      "source": [
        "xgbr"
      ],
      "execution_count": null,
      "outputs": [
        {
          "output_type": "execute_result",
          "data": {
            "text/plain": [
              "XGBRegressor(base_score=0.5, booster='gbtree', colsample_bylevel=1,\n",
              "             colsample_bynode=1, colsample_bytree=1, gamma=0,\n",
              "             importance_type='gain', learning_rate=0.1, max_delta_step=0,\n",
              "             max_depth=3, min_child_weight=1, missing=None, n_estimators=100,\n",
              "             n_jobs=1, nthread=None, objective='reg:linear', random_state=0,\n",
              "             reg_alpha=0, reg_lambda=1, scale_pos_weight=1, seed=None,\n",
              "             silent=True, subsample=1, verbosity=1)"
            ]
          },
          "metadata": {
            "tags": []
          },
          "execution_count": 123
        }
      ]
    },
    {
      "cell_type": "markdown",
      "metadata": {
        "id": "VzoJfSJ028im",
        "colab_type": "text"
      },
      "source": [
        "## CATBOOST"
      ]
    },
    {
      "cell_type": "code",
      "metadata": {
        "id": "IbmHax-c3GQ_",
        "colab_type": "code",
        "colab": {
          "base_uri": "https://localhost:8080/",
          "height": 34
        },
        "outputId": "d9bedd84-a895-4213-dfaa-eec570ee01b8"
      },
      "source": [
        "# ! pip install catboost\n",
        "import catboost\n",
        "from catboost import CatBoostRegressor\n",
        "\n",
        "cbr, scores = CatBoostRegressor(silent=True), list()\n",
        "\n",
        "for train, test in kf.split(X,y):\n",
        "    xtrain, ytrain = X.loc[train], y.loc[train]\n",
        "    xtest, ytest = X.loc[test], y.loc[test]\n",
        "\n",
        "    cbr.fit(xtrain,ytrain, )\n",
        "    ypred = cbr.predict(xtest)\n",
        "\n",
        "    temp = mean_squared_error(ypred, ytest, squared=False)\n",
        "    scores.append(temp)\n",
        "    \n",
        "scoresd['baseline_CatBoost'] = sum(scores)/len(scores)\n",
        "print('CV(', kf.get_n_splits(), ') score: ', scoresd['baseline_CatBoost']);"
      ],
      "execution_count": null,
      "outputs": [
        {
          "output_type": "stream",
          "text": [
            "CV( 15 ) score:  0.45261551587666243\n"
          ],
          "name": "stdout"
        }
      ]
    },
    {
      "cell_type": "code",
      "metadata": {
        "id": "JJs1vaRJmgRs",
        "colab_type": "code",
        "colab": {
          "base_uri": "https://localhost:8080/",
          "height": 638
        },
        "outputId": "1f011834-901d-452f-8978-27f94c05755d"
      },
      "source": [
        "cbr.get_all_params()"
      ],
      "execution_count": null,
      "outputs": [
        {
          "output_type": "execute_result",
          "data": {
            "text/plain": [
              "{'auto_class_weights': 'None',\n",
              " 'bayesian_matrix_reg': 0.10000000149011612,\n",
              " 'best_model_min_trees': 1,\n",
              " 'boost_from_average': True,\n",
              " 'boosting_type': 'Plain',\n",
              " 'bootstrap_type': 'MVS',\n",
              " 'border_count': 254,\n",
              " 'classes_count': 0,\n",
              " 'depth': 6,\n",
              " 'eval_metric': 'RMSE',\n",
              " 'feature_border_type': 'GreedyLogSum',\n",
              " 'grow_policy': 'SymmetricTree',\n",
              " 'iterations': 1000,\n",
              " 'l2_leaf_reg': 3,\n",
              " 'leaf_estimation_backtracking': 'AnyImprovement',\n",
              " 'leaf_estimation_iterations': 1,\n",
              " 'leaf_estimation_method': 'Newton',\n",
              " 'learning_rate': 0.04820200055837631,\n",
              " 'loss_function': 'RMSE',\n",
              " 'max_leaves': 64,\n",
              " 'min_data_in_leaf': 1,\n",
              " 'model_shrink_mode': 'Constant',\n",
              " 'model_shrink_rate': 0,\n",
              " 'model_size_reg': 0.5,\n",
              " 'nan_mode': 'Min',\n",
              " 'penalties_coefficient': 1,\n",
              " 'random_seed': 0,\n",
              " 'random_strength': 1,\n",
              " 'rsm': 1,\n",
              " 'sampling_frequency': 'PerTree',\n",
              " 'score_function': 'Cosine',\n",
              " 'sparse_features_conflict_fraction': 0,\n",
              " 'subsample': 0.800000011920929,\n",
              " 'task_type': 'CPU',\n",
              " 'use_best_model': False}"
            ]
          },
          "metadata": {
            "tags": []
          },
          "execution_count": 132
        }
      ]
    },
    {
      "cell_type": "markdown",
      "metadata": {
        "id": "oHKHqexi2-4p",
        "colab_type": "text"
      },
      "source": [
        "## BLENDING & SUBMISSION"
      ]
    },
    {
      "cell_type": "code",
      "metadata": {
        "id": "GteEbSQJt90q",
        "colab_type": "code",
        "colab": {}
      },
      "source": [
        "## FITTING\n",
        "lgbr = lgb.LGBMRegressor()\n",
        "lgbm = lgbr.fit(X,y)\n",
        "xgbm = xgbr.fit(X,y)\n",
        "cbrm = cbr.fit(X,y)\n",
        "enetm = enetr.fit(X,y)\n",
        "lasm = lassr.fit(X,y)\n",
        "\n",
        "## PREDICTIONS\n",
        "lgbpred = lgbm.predict(X_test)\n",
        "xgbpred = xgbm.predict(X_test)\n",
        "cbrpred = cbrm.predict(X_test)\n",
        "enetpred = enetm.predict(X_test)\n",
        "lasspred = lasm.predict(X_test)"
      ],
      "execution_count": null,
      "outputs": []
    },
    {
      "cell_type": "code",
      "metadata": {
        "id": "aLW0wP6i5awE",
        "colab_type": "code",
        "colab": {
          "base_uri": "https://localhost:8080/",
          "height": 105
        },
        "outputId": "b7e485fe-ad89-4a25-a1fe-e74630b911de"
      },
      "source": [
        "scoresd"
      ],
      "execution_count": null,
      "outputs": [
        {
          "output_type": "execute_result",
          "data": {
            "text/plain": [
              "{'baseline_CatBoost': 0.45261551587666243,\n",
              " 'baseline_XGB': 0.44900855155860514,\n",
              " 'baseline_lgb': 0.4450045782471692,\n",
              " 'elastic_net': 0.47634466239241857,\n",
              " 'lasso': 0.49086272149388777}"
            ]
          },
          "metadata": {
            "tags": []
          },
          "execution_count": 159
        }
      ]
    },
    {
      "cell_type": "code",
      "metadata": {
        "id": "TVfc0hE6vCyA",
        "colab_type": "code",
        "colab": {
          "base_uri": "https://localhost:8080/",
          "height": 52
        },
        "outputId": "46561b62-992f-468d-fc62-d8e4cc122887"
      },
      "source": [
        "## BLENDING\n",
        "\n",
        "# Y_pred = 0.70*lgb_Y_pred + 0.30*xgb_Y_pred\n",
        "# Y_pred = np.expm1(xgb_Y_pred)\n",
        "\n",
        "Y_pred = np.expm1(0.6*lgbpred+0.4*xgbpred)\n",
        "\n",
        "Y_pred"
      ],
      "execution_count": null,
      "outputs": [
        {
          "output_type": "execute_result",
          "data": {
            "text/plain": [
              "array([1.65013739, 2.04860954, 2.84216006, ..., 1.40145455, 1.86206174,\n",
              "       1.84852465])"
            ]
          },
          "metadata": {
            "tags": []
          },
          "execution_count": 168
        }
      ]
    },
    {
      "cell_type": "code",
      "metadata": {
        "id": "7jYW9lODuTmw",
        "colab_type": "code",
        "colab": {}
      },
      "source": [
        "## CREATING SUBMISSION FILE\n",
        "\n",
        "sample.iloc[:,0] = np.round(Y_pred, 4); sample.to_csv(FILEPATH+'/blend_06.csv', index=False)\n",
        "best = pd.read_csv(FILEPATH+'/blend_01.csv')"
      ],
      "execution_count": null,
      "outputs": []
    },
    {
      "cell_type": "code",
      "metadata": {
        "id": "pgK6Ho4_tCqt",
        "colab_type": "code",
        "colab": {
          "base_uri": "https://localhost:8080/",
          "height": 406
        },
        "outputId": "22f83f87-9ef5-48a9-f88c-e0ff69747585"
      },
      "source": [
        "best"
      ],
      "execution_count": null,
      "outputs": [
        {
          "output_type": "execute_result",
          "data": {
            "text/html": [
              "<div>\n",
              "<style scoped>\n",
              "    .dataframe tbody tr th:only-of-type {\n",
              "        vertical-align: middle;\n",
              "    }\n",
              "\n",
              "    .dataframe tbody tr th {\n",
              "        vertical-align: top;\n",
              "    }\n",
              "\n",
              "    .dataframe thead th {\n",
              "        text-align: right;\n",
              "    }\n",
              "</style>\n",
              "<table border=\"1\" class=\"dataframe\">\n",
              "  <thead>\n",
              "    <tr style=\"text-align: right;\">\n",
              "      <th></th>\n",
              "      <th>SalesInMillions</th>\n",
              "    </tr>\n",
              "  </thead>\n",
              "  <tbody>\n",
              "    <tr>\n",
              "      <th>0</th>\n",
              "      <td>1.620</td>\n",
              "    </tr>\n",
              "    <tr>\n",
              "      <th>1</th>\n",
              "      <td>1.768</td>\n",
              "    </tr>\n",
              "    <tr>\n",
              "      <th>2</th>\n",
              "      <td>2.663</td>\n",
              "    </tr>\n",
              "    <tr>\n",
              "      <th>3</th>\n",
              "      <td>1.821</td>\n",
              "    </tr>\n",
              "    <tr>\n",
              "      <th>4</th>\n",
              "      <td>1.983</td>\n",
              "    </tr>\n",
              "    <tr>\n",
              "      <th>...</th>\n",
              "      <td>...</td>\n",
              "    </tr>\n",
              "    <tr>\n",
              "      <th>1498</th>\n",
              "      <td>1.688</td>\n",
              "    </tr>\n",
              "    <tr>\n",
              "      <th>1499</th>\n",
              "      <td>1.199</td>\n",
              "    </tr>\n",
              "    <tr>\n",
              "      <th>1500</th>\n",
              "      <td>1.254</td>\n",
              "    </tr>\n",
              "    <tr>\n",
              "      <th>1501</th>\n",
              "      <td>1.757</td>\n",
              "    </tr>\n",
              "    <tr>\n",
              "      <th>1502</th>\n",
              "      <td>1.876</td>\n",
              "    </tr>\n",
              "  </tbody>\n",
              "</table>\n",
              "<p>1503 rows × 1 columns</p>\n",
              "</div>"
            ],
            "text/plain": [
              "      SalesInMillions\n",
              "0               1.620\n",
              "1               1.768\n",
              "2               2.663\n",
              "3               1.821\n",
              "4               1.983\n",
              "...               ...\n",
              "1498            1.688\n",
              "1499            1.199\n",
              "1500            1.254\n",
              "1501            1.757\n",
              "1502            1.876\n",
              "\n",
              "[1503 rows x 1 columns]"
            ]
          },
          "metadata": {
            "tags": []
          },
          "execution_count": 175
        }
      ]
    },
    {
      "cell_type": "code",
      "metadata": {
        "id": "FI12TnZFsqHF",
        "colab_type": "code",
        "colab": {
          "base_uri": "https://localhost:8080/",
          "height": 230
        },
        "outputId": "9b2d35c7-6b61-4eeb-fa03-fa2e617aa9f0"
      },
      "source": [
        "sample.iloc[:,0] = best.iloc[:,0]*0.995; sample.to_csv(FILEPATH+'/blend_07.csv', index=False)"
      ],
      "execution_count": null,
      "outputs": [
        {
          "output_type": "execute_result",
          "data": {
            "text/plain": [
              "0       1.611900\n",
              "1       1.759160\n",
              "2       2.649685\n",
              "3       1.811895\n",
              "4       1.973085\n",
              "          ...   \n",
              "1498    1.679560\n",
              "1499    1.193005\n",
              "1500    1.247730\n",
              "1501    1.748215\n",
              "1502    1.866620\n",
              "Name: SalesInMillions, Length: 1503, dtype: float64"
            ]
          },
          "metadata": {
            "tags": []
          },
          "execution_count": 176
        }
      ]
    }
  ]
}